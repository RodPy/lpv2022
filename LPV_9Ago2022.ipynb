{
 "cells": [
  {
   "cell_type": "code",
   "execution_count": 28,
   "id": "77f84c0d",
   "metadata": {},
   "outputs": [
    {
     "name": "stdout",
     "output_type": "stream",
     "text": [
      "<class 'str'>\n",
      " Hola Mundo Hola Mundo\n",
      "<class 'float'>\n",
      "True\n"
     ]
    }
   ],
   "source": [
    "nombre = \" Hola Mundo\"\n",
    "\n",
    "print(type(nombre))\n",
    "\n",
    "nombre.lower()\n",
    "\n",
    "print (nombre + nombre)\n",
    "n=1/2\n",
    "\n",
    "print (type(n))\n",
    "\n",
    "print(\"ola\" in nombre)\n",
    "\n"
   ]
  },
  {
   "cell_type": "code",
   "execution_count": 23,
   "id": "f004bd31",
   "metadata": {},
   "outputs": [
    {
     "name": "stdout",
     "output_type": "stream",
     "text": [
      "3/2\n",
      "5/3\n",
      "15/6\n",
      "19/6\n",
      "19/6\n"
     ]
    }
   ],
   "source": [
    "class fraccion:\n",
    "    def __init__(self, num=0, den=1):\n",
    "        self.num=num\n",
    "        self.den=den\n",
    "    \n",
    "    def __str__(self):\n",
    "        return(str(self.num)+ \"/\"+str(self.den))\n",
    "    \n",
    "    def imprimir(self):\n",
    "        print(str(self.num)+ \"/\"+str(self.den))\n",
    "    \n",
    "    def multiplicacion(self,f):\n",
    "        num= self.num * f.num\n",
    "        den= self.den * f.den\n",
    "        return fraccion(num,den)\n",
    "    \n",
    "    def __mul__(self,f):\n",
    "        num= self.num * f.num\n",
    "        den= self.den * f.den\n",
    "        return fraccion(num,den)\n",
    "    \n",
    "    def suma(self,f):\n",
    "        mcm=self.__mcm(self.den, f.den)\n",
    "        num= (mcm//self.den)*self.num + (mcm//f.den)*f.num\n",
    "        den=mcm\n",
    "        return fraccion(num,den)\n",
    "    \n",
    "    def __add__(self,f):\n",
    "        mcm=self.__mcm(self.den, f.den)\n",
    "        num= (mcm//self.den)*self.num + (mcm//f.den)*f.num\n",
    "        den=mcm\n",
    "        return fraccion(num,den)\n",
    "    \n",
    "    def __mcm(self,num1,num2):\n",
    "        A = max(num1, num2)\n",
    "        B = min(num1, num2)\n",
    "        while B:\n",
    "            mcd = B\n",
    "            B = A % B\n",
    "            A = mcd\n",
    "        mcm =  (num1 * num2) // mcd\n",
    "        return (mcm)\n",
    "    \n",
    "a=fraccion(3,2)\n",
    "b=fraccion(5,3)\n",
    "print(a)\n",
    "print(b)\n",
    "print(a*b)\n",
    "print(a+b)"
   ]
  },
  {
   "cell_type": "code",
   "execution_count": 25,
   "id": "4652c919",
   "metadata": {},
   "outputs": [
    {
     "name": "stdout",
     "output_type": "stream",
     "text": [
      "ON\n",
      "OFF\n"
     ]
    }
   ],
   "source": [
    "class foco:\n",
    "    __estado=('ON', 'OFF')\n",
    "    \n",
    "    def __init__(self, encedido):\n",
    "        self.encedido =encedido\n",
    "        \n",
    "    def mostrar_estado(self):\n",
    "        if self.encedido == True:\n",
    "            print(self.__estado[0])\n",
    "        else:\n",
    "            print(self.__estado[1])\n",
    "            \n",
    "    def encender(self):\n",
    "        self.encedido=True\n",
    "        self.mostrar_estado()\n",
    "    \n",
    "    def apagar(self):\n",
    "        self.encedido=False\n",
    "        self.mostrar_estado()\n",
    "    \n",
    "a = foco(True)\n",
    "a.mostrar_estado()\n",
    "\n",
    "a.apagar()\n",
    "    "
   ]
  }
 ],
 "metadata": {
  "kernelspec": {
   "display_name": "Python 3 (ipykernel)",
   "language": "python",
   "name": "python3"
  },
  "language_info": {
   "codemirror_mode": {
    "name": "ipython",
    "version": 3
   },
   "file_extension": ".py",
   "mimetype": "text/x-python",
   "name": "python",
   "nbconvert_exporter": "python",
   "pygments_lexer": "ipython3",
   "version": "3.9.7"
  }
 },
 "nbformat": 4,
 "nbformat_minor": 5
}
