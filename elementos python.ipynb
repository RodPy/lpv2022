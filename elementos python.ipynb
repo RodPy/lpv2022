{
 "cells": [
  {
   "cell_type": "code",
   "execution_count": 1,
   "id": "be508d50",
   "metadata": {},
   "outputs": [
    {
     "name": "stdout",
     "output_type": "stream",
     "text": [
      "hello\n"
     ]
    }
   ],
   "source": [
    "print(\"hello\")"
   ]
  },
  {
   "cell_type": "code",
   "execution_count": 2,
   "id": "9934b0d0",
   "metadata": {},
   "outputs": [
    {
     "ename": "SyntaxError",
     "evalue": "invalid character '‘' (U+2018) (Temp/ipykernel_9452/1670163690.py, line 1)",
     "output_type": "error",
     "traceback": [
      "\u001b[1;36m  File \u001b[1;32m\"C:\\Users\\rodne\\AppData\\Local\\Temp/ipykernel_9452/1670163690.py\"\u001b[1;36m, line \u001b[1;32m1\u001b[0m\n\u001b[1;33m    usuario = input(‘Ingresea tu nombre de usuario ')\u001b[0m\n\u001b[1;37m                    ^\u001b[0m\n\u001b[1;31mSyntaxError\u001b[0m\u001b[1;31m:\u001b[0m invalid character '‘' (U+2018)\n"
     ]
    }
   ],
   "source": [
    "usuario = input(‘Ingresea tu nombre de usuario ')\n",
    "print('Hola, ' + usuario)"
   ]
  },
  {
   "cell_type": "code",
   "execution_count": 2,
   "id": "27622cac",
   "metadata": {},
   "outputs": [],
   "source": [
    "## Numericos\n",
    "\n",
    "x= 1\n",
    "y= 1.23\n",
    "z=1j"
   ]
  },
  {
   "cell_type": "code",
   "execution_count": 9,
   "id": "018514fe",
   "metadata": {},
   "outputs": [
    {
     "name": "stdout",
     "output_type": "stream",
     "text": [
      "<class 'float'>\n",
      "<class 'int'>\n",
      "<class 'complex'>\n"
     ]
    }
   ],
   "source": [
    "print(type(x))\n",
    "print(type(y))\n",
    "print(type(z))\n"
   ]
  },
  {
   "cell_type": "code",
   "execution_count": 8,
   "id": "bf71b6e4",
   "metadata": {},
   "outputs": [],
   "source": [
    "#Casting\n",
    "x= float(1)\n",
    "\n",
    "y= int(1.23)"
   ]
  },
  {
   "cell_type": "code",
   "execution_count": 14,
   "id": "253965fe",
   "metadata": {},
   "outputs": [],
   "source": [
    "t= \" lpv 2022\""
   ]
  },
  {
   "cell_type": "code",
   "execution_count": 15,
   "id": "b69f9388",
   "metadata": {},
   "outputs": [
    {
     "name": "stdout",
     "output_type": "stream",
     "text": [
      "<class 'str'>\n"
     ]
    }
   ],
   "source": [
    "print(type(t))"
   ]
  },
  {
   "cell_type": "code",
   "execution_count": 20,
   "id": "5fd6fd87",
   "metadata": {},
   "outputs": [
    {
     "ename": "ValueError",
     "evalue": "invalid literal for int() with base 10: ' lpv 2022'",
     "output_type": "error",
     "traceback": [
      "\u001b[1;31m---------------------------------------------------------------------------\u001b[0m",
      "\u001b[1;31mValueError\u001b[0m                                Traceback (most recent call last)",
      "\u001b[1;32m~\\AppData\\Local\\Temp/ipykernel_480/3982481944.py\u001b[0m in \u001b[0;36m<module>\u001b[1;34m\u001b[0m\n\u001b[1;32m----> 1\u001b[1;33m \u001b[0mT\u001b[0m\u001b[1;33m=\u001b[0m\u001b[0mint\u001b[0m\u001b[1;33m(\u001b[0m\u001b[0mt\u001b[0m\u001b[1;33m)\u001b[0m\u001b[1;33m+\u001b[0m\u001b[0mint\u001b[0m\u001b[1;33m(\u001b[0m\u001b[0mt\u001b[0m\u001b[1;33m)\u001b[0m\u001b[1;33m\u001b[0m\u001b[1;33m\u001b[0m\u001b[0m\n\u001b[0m\u001b[0;32m      2\u001b[0m \u001b[0mprint\u001b[0m\u001b[1;33m(\u001b[0m\u001b[0mT\u001b[0m\u001b[1;33m)\u001b[0m\u001b[1;33m\u001b[0m\u001b[1;33m\u001b[0m\u001b[0m\n",
      "\u001b[1;31mValueError\u001b[0m: invalid literal for int() with base 10: ' lpv 2022'"
     ]
    }
   ],
   "source": [
    "T=int(t)+int(t)\n",
    "print(T)"
   ]
  },
  {
   "cell_type": "code",
   "execution_count": null,
   "id": "a2077f34",
   "metadata": {},
   "outputs": [],
   "source": [
    "# Boolean\n",
    "o= True\n",
    "l= False\n"
   ]
  },
  {
   "cell_type": "code",
   "execution_count": 24,
   "id": "1a92fda8",
   "metadata": {},
   "outputs": [
    {
     "name": "stdout",
     "output_type": "stream",
     "text": [
      "suma : 10\n",
      "resta : 1\n",
      "multiplicacion : 25\n",
      "div : 1.0\n"
     ]
    }
   ],
   "source": [
    "## Operadores \n",
    "print(\"suma : \"+ str(5+5))\n",
    "print(\"resta : \"+ str(6-5))\n",
    "print(\"multiplicacion : \"+ str(5*5))\n",
    "print(\"div : \"+ str(5/5))"
   ]
  },
  {
   "cell_type": "code",
   "execution_count": 26,
   "id": "249b5d44",
   "metadata": {},
   "outputs": [
    {
     "name": "stdout",
     "output_type": "stream",
     "text": [
      "True\n",
      "True\n",
      "True\n",
      "False\n",
      "True\n",
      "False\n"
     ]
    }
   ],
   "source": [
    "## Comparacion \n",
    "print(4>=3)\n",
    "print(4!=3)\n",
    "print(4>3)\n",
    "print(4<3)\n",
    "print(4>=3)\n",
    "print(4<=3)"
   ]
  },
  {
   "cell_type": "code",
   "execution_count": 27,
   "id": "19d4d1ec",
   "metadata": {},
   "outputs": [
    {
     "name": "stdout",
     "output_type": "stream",
     "text": [
      "['rodney', 1.3658, 46, 46, [1, 'hola', 5.36], 'LPV']\n",
      "['rojas', 1.3658, 46, 46, [1, 'hola', 5.36], 'LPV']\n",
      "<class 'str'>\n",
      "<class 'float'>\n",
      "<class 'int'>\n",
      "<class 'int'>\n",
      "<class 'list'>\n",
      "<class 'str'>\n"
     ]
    }
   ],
   "source": [
    "lista1 = [ \"rodney\", 1.3658, 46, 46, [1,'hola',5.36]]\n",
    "\n",
    "# print(lista1)\n",
    "# print(type(lista1))\n",
    "\n",
    "lista1[2]\n",
    "\n",
    "lista1.append('LPV')\n",
    "\n",
    "# print(lista1)\n",
    "# lista1.reverse()\n",
    "print(lista1)\n",
    "\n",
    "# print(lista1.count(46))\n",
    "lista1[0]='rojas'\n",
    "print(lista1)\n",
    " \n",
    "for i in lista1:\n",
    "    print (type(i))"
   ]
  },
  {
   "cell_type": "code",
   "execution_count": 28,
   "id": "376f9a44",
   "metadata": {},
   "outputs": [
    {
     "name": "stdout",
     "output_type": "stream",
     "text": [
      "<class 'tuple'>\n",
      "('rodney', 1.3658, 46)\n"
     ]
    },
    {
     "ename": "TypeError",
     "evalue": "'tuple' object does not support item assignment",
     "output_type": "error",
     "traceback": [
      "\u001b[1;31m---------------------------------------------------------------------------\u001b[0m",
      "\u001b[1;31mTypeError\u001b[0m                                 Traceback (most recent call last)",
      "\u001b[1;32m~\\AppData\\Local\\Temp/ipykernel_9980/143068906.py\u001b[0m in \u001b[0;36m<module>\u001b[1;34m\u001b[0m\n\u001b[0;32m      3\u001b[0m \u001b[0mprint\u001b[0m\u001b[1;33m(\u001b[0m\u001b[0mtype\u001b[0m\u001b[1;33m(\u001b[0m\u001b[0mtupla\u001b[0m\u001b[1;33m)\u001b[0m\u001b[1;33m)\u001b[0m\u001b[1;33m\u001b[0m\u001b[1;33m\u001b[0m\u001b[0m\n\u001b[0;32m      4\u001b[0m \u001b[0mprint\u001b[0m\u001b[1;33m(\u001b[0m\u001b[0mtupla\u001b[0m\u001b[1;33m)\u001b[0m\u001b[1;33m\u001b[0m\u001b[1;33m\u001b[0m\u001b[0m\n\u001b[1;32m----> 5\u001b[1;33m \u001b[0mtupla\u001b[0m\u001b[1;33m[\u001b[0m\u001b[1;36m0\u001b[0m\u001b[1;33m]\u001b[0m\u001b[1;33m=\u001b[0m\u001b[1;34m'rojas'\u001b[0m\u001b[1;33m\u001b[0m\u001b[1;33m\u001b[0m\u001b[0m\n\u001b[0m",
      "\u001b[1;31mTypeError\u001b[0m: 'tuple' object does not support item assignment"
     ]
    }
   ],
   "source": [
    "tupla = (\"rodney\", 1.3658, 46)\n",
    "\n",
    "print(type(tupla))\n",
    "print(tupla)\n",
    "tupla[0]='rojas'"
   ]
  },
  {
   "cell_type": "code",
   "execution_count": 34,
   "id": "6fef9404",
   "metadata": {},
   "outputs": [
    {
     "name": "stdout",
     "output_type": "stream",
     "text": [
      "<class 'dict'>\n",
      "{'nombre': 'Rodney', 'apellido': 'rojas'}\n",
      "Rodney\n",
      "dict_keys(['nombre', 'apellido'])\n"
     ]
    }
   ],
   "source": [
    "diccionario ={'nombre':'Rodney', 'apellido':'rojas' }\n",
    "\n",
    "print(type(diccionario))\n",
    "print(diccionario)\n",
    "\n",
    "print (diccionario['nombre'])\n",
    "\n",
    "print( diccionario.keys())"
   ]
  },
  {
   "cell_type": "code",
   "execution_count": 36,
   "id": "d815c327",
   "metadata": {},
   "outputs": [
    {
     "name": "stdout",
     "output_type": "stream",
     "text": [
      "<class 'type'>\n"
     ]
    }
   ],
   "source": [
    "\n"
   ]
  }
 ],
 "metadata": {
  "kernelspec": {
   "display_name": "Python 3 (ipykernel)",
   "language": "python",
   "name": "python3"
  },
  "language_info": {
   "codemirror_mode": {
    "name": "ipython",
    "version": 3
   },
   "file_extension": ".py",
   "mimetype": "text/x-python",
   "name": "python",
   "nbconvert_exporter": "python",
   "pygments_lexer": "ipython3",
   "version": "3.9.7"
  }
 },
 "nbformat": 4,
 "nbformat_minor": 5
}
