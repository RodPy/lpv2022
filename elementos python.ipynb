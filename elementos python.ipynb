{
 "cells": [
  {
   "cell_type": "code",
   "execution_count": 1,
   "id": "7fd6f40c",
   "metadata": {},
   "outputs": [
    {
     "name": "stdout",
     "output_type": "stream",
     "text": [
      "hello\n"
     ]
    }
   ],
   "source": [
    "print(\"hello\")"
   ]
  },
  {
   "cell_type": "code",
   "execution_count": 2,
   "id": "7a526731",
   "metadata": {},
   "outputs": [],
   "source": [
    "## Numericos\n",
    "\n",
    "x= 1\n",
    "\n",
    "y= 1.23\n",
    "\n",
    "z=1j"
   ]
  },
  {
   "cell_type": "code",
   "execution_count": 9,
   "id": "84a45943",
   "metadata": {},
   "outputs": [
    {
     "name": "stdout",
     "output_type": "stream",
     "text": [
      "<class 'float'>\n",
      "<class 'int'>\n",
      "<class 'complex'>\n"
     ]
    }
   ],
   "source": [
    "print(type(x))\n",
    "print(type(y))\n",
    "print(type(z))\n"
   ]
  },
  {
   "cell_type": "code",
   "execution_count": 8,
   "id": "ea911058",
   "metadata": {},
   "outputs": [],
   "source": [
    "#Casting\n",
    "x= float(1)\n",
    "\n",
    "y= int(1.23)"
   ]
  },
  {
   "cell_type": "code",
   "execution_count": 14,
   "id": "3837cfd0",
   "metadata": {},
   "outputs": [],
   "source": [
    "t= \" lpv 2022\""
   ]
  },
  {
   "cell_type": "code",
   "execution_count": 15,
   "id": "d03ce1db",
   "metadata": {},
   "outputs": [
    {
     "name": "stdout",
     "output_type": "stream",
     "text": [
      "<class 'str'>\n"
     ]
    }
   ],
   "source": [
    "print(type(t))"
   ]
  },
  {
   "cell_type": "code",
   "execution_count": 20,
   "id": "1c3f8e43",
   "metadata": {},
   "outputs": [
    {
     "ename": "ValueError",
     "evalue": "invalid literal for int() with base 10: ' lpv 2022'",
     "output_type": "error",
     "traceback": [
      "\u001b[1;31m---------------------------------------------------------------------------\u001b[0m",
      "\u001b[1;31mValueError\u001b[0m                                Traceback (most recent call last)",
      "\u001b[1;32m~\\AppData\\Local\\Temp/ipykernel_480/3982481944.py\u001b[0m in \u001b[0;36m<module>\u001b[1;34m\u001b[0m\n\u001b[1;32m----> 1\u001b[1;33m \u001b[0mT\u001b[0m\u001b[1;33m=\u001b[0m\u001b[0mint\u001b[0m\u001b[1;33m(\u001b[0m\u001b[0mt\u001b[0m\u001b[1;33m)\u001b[0m\u001b[1;33m+\u001b[0m\u001b[0mint\u001b[0m\u001b[1;33m(\u001b[0m\u001b[0mt\u001b[0m\u001b[1;33m)\u001b[0m\u001b[1;33m\u001b[0m\u001b[1;33m\u001b[0m\u001b[0m\n\u001b[0m\u001b[0;32m      2\u001b[0m \u001b[0mprint\u001b[0m\u001b[1;33m(\u001b[0m\u001b[0mT\u001b[0m\u001b[1;33m)\u001b[0m\u001b[1;33m\u001b[0m\u001b[1;33m\u001b[0m\u001b[0m\n",
      "\u001b[1;31mValueError\u001b[0m: invalid literal for int() with base 10: ' lpv 2022'"
     ]
    }
   ],
   "source": [
    "T=int(t)+int(t)\n",
    "print(T)"
   ]
  },
  {
   "cell_type": "code",
   "execution_count": null,
   "id": "2d1f88e8",
   "metadata": {},
   "outputs": [],
   "source": [
    "# Boolean\n",
    "o= True\n",
    "l= False\n"
   ]
  },
  {
   "cell_type": "code",
   "execution_count": 24,
   "id": "138674de",
   "metadata": {},
   "outputs": [
    {
     "name": "stdout",
     "output_type": "stream",
     "text": [
      "suma : 10\n",
      "resta : 1\n",
      "multiplicacion : 25\n",
      "div : 1.0\n"
     ]
    }
   ],
   "source": [
    "## Operadores \n",
    "print(\"suma : \"+ str(5+5))\n",
    "print(\"resta : \"+ str(6-5))\n",
    "print(\"multiplicacion : \"+ str(5*5))\n",
    "print(\"div : \"+ str(5/5))"
   ]
  },
  {
   "cell_type": "code",
   "execution_count": 26,
   "id": "a871921c",
   "metadata": {},
   "outputs": [
    {
     "name": "stdout",
     "output_type": "stream",
     "text": [
      "True\n",
      "True\n",
      "True\n",
      "False\n",
      "True\n",
      "False\n"
     ]
    }
   ],
   "source": [
    "## Comparacion \n",
    "print(4>=3)\n",
    "print(4!=3)\n",
    "print(4>3)\n",
    "print(4<3)\n",
    "print(4>=3)\n",
    "print(4<=3)"
   ]
  }
 ],
 "metadata": {
  "kernelspec": {
   "display_name": "Python 3 (ipykernel)",
   "language": "python",
   "name": "python3"
  },
  "language_info": {
   "codemirror_mode": {
    "name": "ipython",
    "version": 3
   },
   "file_extension": ".py",
   "mimetype": "text/x-python",
   "name": "python",
   "nbconvert_exporter": "python",
   "pygments_lexer": "ipython3",
   "version": "3.9.7"
  }
 },
 "nbformat": 4,
 "nbformat_minor": 5
}
